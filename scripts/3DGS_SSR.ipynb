{
  "cells": [
    {
      "cell_type": "markdown",
      "metadata": {
        "id": "MBPGjqdcptfS"
      },
      "source": [
        "## Notes\n",
        "\n",
        "- Change the directory in cameras.py file to \"\\data\\nagoya\\mask' \n",
        "\n",
        "- Change the directory of the data \n",
        "- Changes in gaussian_renderer/__init__.py:\n",
        "\n",
        "    Remove antialiasing parameter from gaussian_renderer\n",
        "\n",
        "    line 71,135 remove last return argument\n",
        "\n",
        "- possible double masking, line 325:\n",
        "opacity_mask = render_pkg['render_opacity'] > 0.5\n",
        "opacity_mask = opacity_mask.unsqueeze(0).repeat(3, 1, 1)\n",
        "- delete the multiplication\n",
        "save_image(image * opacity_mask, iteration, './saved_images')\n"
      ]
    },
    {
      "cell_type": "code",
      "execution_count": null,
      "metadata": {
        "colab": {
          "base_uri": "https://localhost:8080/"
        },
        "id": "agtS2FrLpPIl",
        "outputId": "1c178c01-22f5-4103-e047-3819bbb66d52"
      },
      "outputs": [],
      "source": [
        "\n",
        "!git clone https://github.com/ThinkXca/3DGS.git --recursive\n",
        "%cd /content\n"
      ]
    },
    {
      "cell_type": "code",
      "execution_count": null,
      "metadata": {
        "id": "3-Q_rnplutta"
      },
      "outputs": [],
      "source": [
        "'''!pip install torch==2.0.1+cu118 torchvision==0.15.2+cu118 torchaudio==2.0.2 --index-url https://download.pytorch.org/whl/cu118\n",
        "\n",
        "# Install other dependencies\n",
        "!pip install plyfile==0.8.1 tqdm\n",
        "\n",
        "# Navigate to the 3DGS directory\n",
        "%cd /content/3DGS\n",
        "\n",
        "# Install diff-gaussian-rasterization (this worked)\n",
        "%cd submodules/diff-gaussian-rasterization\n",
        "!pip install .\n",
        "%cd /content/3DGS\n",
        "\n",
        "# For simple-knn, we need to modify the setup.py for compatibility\n",
        "%cd submodules/simple-knn\n",
        "\n",
        "# Let's check what's in the setup.py and potentially fix it\n",
        "!cat setup.py\n",
        "\n",
        "# Common fix for simple-knn - modify the compilation flags\n",
        "!sed -i 's/\"-std=c++14\"/\"-std=c++17\", \"-D_GLIBCXX_USE_CXX11_ABI=1\"/g' setup.py\n",
        "\n",
        "# Try building again\n",
        "!pip install .\n",
        "%cd /content/3DGS\n",
        "\n",
        "# For Propagation_SSIM, check if it has setup requirements\n",
        "%cd submodules/Propagation_SSIM\n",
        "!pip install .\n",
        "%cd /content/3DGS\n",
        "\n",
        "# Verify installation\n",
        "!python -c \"import torch; print('PyTorch:', torch.__version__); print('CUDA:', torch.cuda.is_available())\"\n",
        "!python -c \"import diff_gaussian_rasterization; print('Diff Gaussian Rasterization imported successfully')\"\"'''"
      ]
    },
    {
      "cell_type": "code",
      "execution_count": null,
      "metadata": {
        "colab": {
          "base_uri": "https://localhost:8080/"
        },
        "id": "A7t8Q_yr4wsR",
        "outputId": "848e8ab6-a6ef-4a1e-8ed2-e58cac565eea"
      },
      "outputs": [],
      "source": [
        "!nvcc --version\n",
        "!nvidia-smi\n",
        "\n",
        "# Set the CUDA architecture to match Colab's GPU (usually sm_80 for A100/T4)\n",
        "import os\n",
        "os.environ[\"CUDA_HOME\"] = \"/usr/local/cuda\"\n",
        "os.environ[\"TORCH_CUDA_ARCH_LIST\"] = \"7.5;8.0;8.6\"  # Common architectures for Colab GPUs\n",
        "\n",
        "# Install with specific build flags\n",
        "%cd /content/3DGS/submodules/diff-gaussian-rasterization\n",
        "!python setup.py install\n",
        "%cd /content/3DGS"
      ]
    },
    {
      "cell_type": "code",
      "execution_count": null,
      "metadata": {
        "colab": {
          "base_uri": "https://localhost:8080/"
        },
        "id": "6omsIGSXvi5b",
        "outputId": "b3ad3828-dd4d-45ed-8ed3-1063722b3940"
      },
      "outputs": [],
      "source": [
        "\n",
        "#Very important inclusion for simple-knn to work\n",
        "!sed -i '1i#include <cfloat>' /content/3DGS/submodules/simple-knn/simple_knn.cu\n",
        "\n",
        "%cd submodules/simple-knn\n",
        "!pip install .  --verbose\n",
        "%cd /content/3DGS\n"
      ]
    },
    {
      "cell_type": "code",
      "execution_count": null,
      "metadata": {
        "colab": {
          "base_uri": "https://localhost:8080/"
        },
        "id": "i_g-3BT5pqiq",
        "outputId": "cab2b3f3-20a1-4b7d-ba8b-a7708b86b7f6"
      },
      "outputs": [],
      "source": [
        "!pip install torch==1.12.1+cu113 torchvision==0.13.1+cu113 torchaudio==0.12.1 --extra-index-url https://download.pytorch.org/whl/cu113\n",
        "!pip install plyfile==0.8.1 tqdm\n",
        "%cd content\n",
        "#!pip install 3DGS/submodules/diff-gaussian-rasterization\n",
        "#!pip install 3DGS/submodules/simple-knn\n",
        "#!pip install 3DGS/submodules/Propagation_SSIM\n",
        "%cd submodules/diff-gaussian-rasterization\n",
        "!pip install .\n",
        "%cd /content/3DGS\n",
        "\n",
        "# Install simple-knn\n",
        "#!sed -i '1i#include <cfloat>' /content/3DGS/submodules/simple-knn/simple_knn.cu\n",
        "\n",
        "#%cd submodules/simple-knn\n",
        "#!pip install .\n",
        "#%cd /content/3DGS\n",
        "\n",
        "# Install Propagation_SSIM (if it has a setup.py)\n",
        "%cd submodules/Propagation_SSIM\n",
        "!pip install .\n",
        "%cd /content/3DGS\n",
        "\n",
        "!nvcc --version\n",
        "\n",
        "!python -c \"import torch; print(f'PyTorch version: {torch.__version__}'); print(f'CUDA available: {torch.cuda.is_available()}')\""
      ]
    },
    {
      "cell_type": "code",
      "execution_count": null,
      "metadata": {
        "colab": {
          "base_uri": "https://localhost:8080/"
        },
        "id": "ds_6wwSJ8mat",
        "outputId": "abeed649-76d7-4587-b6bd-5e125a5580ee"
      },
      "outputs": [],
      "source": [
        "!unzip -q /content/nagoya.zip -d /content/3DGS/data/\n",
        "!pip install open3d"
      ]
    },
    {
      "cell_type": "code",
      "execution_count": null,
      "metadata": {
        "colab": {
          "base_uri": "https://localhost:8080/"
        },
        "id": "l7VEA6fipsrC",
        "outputId": "3b5bb5df-32f1-4323-e9a5-2ef03813f841"
      },
      "outputs": [],
      "source": [
        "\n",
        "# Don't forget to modify the mask location before running the code. cameras.py 54\n",
        "%cd /content/3DGS\n",
        "\n",
        "\n",
        "#change the data to nagoya\n",
        "!python train.py -s data/nagoya --eval\n",
        "\n"
      ]
    },
    {
      "cell_type": "code",
      "execution_count": null,
      "metadata": {
        "colab": {
          "base_uri": "https://localhost:8080/",
          "height": 1000
        },
        "id": "B07yyKJ1C4qW",
        "outputId": "0ffaa51f-1481-4118-d937-c285a03413eb"
      },
      "outputs": [],
      "source": [
        "# 1. Navigate to your output directory\n",
        "%cd /content/3DGS\n",
        "!zip -r trained_model.zip ./output/ ./saved_images/ ./saved_gt_images/\n",
        "\n",
        "# 2. Download the compressed file\n",
        "from google.colab import files\n",
        "files.download('trained_model.zip')\n",
        "\n",
        "\n"
      ]
    }
  ],
  "metadata": {
    "accelerator": "GPU",
    "colab": {
      "gpuType": "A100",
      "provenance": []
    },
    "kernelspec": {
      "display_name": "Python 3",
      "name": "python3"
    },
    "language_info": {
      "name": "python"
    }
  },
  "nbformat": 4,
  "nbformat_minor": 0
}
