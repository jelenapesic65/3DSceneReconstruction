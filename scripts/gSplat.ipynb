{
  "cells": [
    {
      "cell_type": "code",
      "execution_count": null,
      "metadata": {
        "colab": {
          "base_uri": "https://localhost:8080/"
        },
        "id": "IlZHP4_wH9ZG",
        "outputId": "6fb90672-3e29-4bd7-c975-d15ea1d88748"
      },
      "outputs": [],
      "source": [
        "\n",
        "from google.colab import drive\n",
        "drive.mount('/content/drive')\n",
        "%cd /content/drive/MyDrive/3DGS/\n",
        "\n",
        "DATA_DIR = \"/content/drive/MyDrive/3DGS/images\"      # folder with your images\n",
        "RESULT_DIR = \"/content/drive/MyDrive/3DGS/results\"   # where results will be saved\n",
        "\n",
        "import os\n",
        "os.makedirs(RESULT_DIR, exist_ok=True)\n",
        "\n",
        "#!pip install torch torchvision --extra-index-url https://download.pytorch.org/whl/cu118\n",
        "\n",
        "!pip install gsplat\n",
        "!pip install git+https://github.com/rmbrualla/pycolmap@cc7ea4b7301720ac29287dbe450952511b32125e\n",
        "!pip install git+https://github.com/rahul-goel/fused-ssim@1272e21a282342e89537159e4bad508b19b34157#\n",
        "#!pip install piq imageio[ffmpeg] scikit-learn tqdm torchmetrics[image] opencv-python tyro Pillow tensorboard tensorly pyyaml matplotlib\n",
        "\n",
        "\n"
      ]
    },
    {
      "cell_type": "code",
      "execution_count": null,
      "metadata": {
        "colab": {
          "base_uri": "https://localhost:8080/",
          "height": 1000
        },
        "id": "WR3KplZlKBH8",
        "outputId": "9073e606-1e69-4f70-858f-61f87bf5e299"
      },
      "outputs": [],
      "source": [
        "!git clone https://github.com/jelenapesic65/GSplat-ShapeFuture.git\n",
        "#import sys\n",
        "#sys.path.append(\"/content/drive/MyDrive/3DGS/GSplat-ShapeFuture/examples\")\n",
        "import os\n",
        "print(os.getcwd())  # Should show /content/drive/MyDrive/3DGS/GSplat-ShapeFuture\n",
        "os.chdir('/content/drive/MyDrive/3DGS/GSplat-ShapeFuture')  # Change if necessary\n",
        "import sys\n",
        "sys.path.append('/content/drive/MyDrive/3DGS/GSplat-ShapeFuture')\n",
        "#%cd GSplat-ShapeFuture/examples\n",
        "\n",
        "!pip install -r examples/requirements.txt\n",
        "!pip install plyfile\n",
        "#!pip install --upgrade numpy # Add this line to upgrade numpy\n",
        "\n",
        "!python /content/drive/MyDrive/3DGS/GSplat-ShapeFuture/examples/simple_trainer.py \\\n",
        "    default \\\n",
        "    --data_dir \"{DATA_DIR}\" \\\n",
        "    --data_factor 1 \\\n",
        "    --result_dir \"{RESULT_DIR}\""
      ]
    },
    {
      "cell_type": "code",
      "execution_count": null,
      "metadata": {
        "colab": {
          "base_uri": "https://localhost:8080/"
        },
        "id": "FPbC09LqKDxj",
        "outputId": "0cc65a4f-c61b-4f0d-85f5-04f9161f2367"
      },
      "outputs": [],
      "source": [
        "\n",
        "!python /content/drive/MyDrive/3DGS/GSplat-ShapeFuture/examples/simple_trainer.py \\\n",
        "    default \\\n",
        "    --data_dir \"{DATA_DIR}\" \\\n",
        "    --data_factor 1 \\\n",
        "    --result_dir \"{RESULT_DIR}\"\n"
      ]
    }
  ],
  "metadata": {
    "accelerator": "GPU",
    "colab": {
      "gpuType": "A100",
      "provenance": []
    },
    "kernelspec": {
      "display_name": "Python 3",
      "name": "python3"
    },
    "language_info": {
      "name": "python"
    }
  },
  "nbformat": 4,
  "nbformat_minor": 0
}
