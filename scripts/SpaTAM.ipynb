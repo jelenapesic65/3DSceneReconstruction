{
  "cells": [
    {
      "cell_type": "markdown",
      "metadata": {
        "id": "sYq8Ehtl8xzS"
      },
      "source": [
        "Fix the `_init_` to `__init__` in datasets/gradslam_datasets\n",
        "\n",
        "Replace scripts/nerfcapture2dataset.py and config/iphone/nerfcapture.py\n",
        "\n",
        "Gradslam_datasets/nerfcapture replace file with nerfcapture.py\n",
        "\n",
        "configs/iphone/nerfcapture.py replace contents from config.py\n",
        "\n",
        "Data goes into .\\data\\nagoya\n",
        "Results go to .\\experiments\n"
      ]
    },
    {
      "cell_type": "code",
      "execution_count": null,
      "metadata": {
        "colab": {
          "base_uri": "https://localhost:8080/"
        },
        "id": "15L1xSpfaD9H",
        "outputId": "d2fe15b6-3713-4a88-b6fe-0d19e97f813f"
      },
      "outputs": [],
      "source": [
        "!git clone https://github.com/spla-tam/SplaTAM.git\n",
        "%cd SplaTAM"
      ]
    },
    {
      "cell_type": "code",
      "execution_count": null,
      "metadata": {
        "colab": {
          "base_uri": "https://localhost:8080/"
        },
        "id": "hx0mdJFLaN7C",
        "outputId": "2f93e27b-87fa-4ad7-c361-23f7b366546f"
      },
      "outputs": [],
      "source": [
        "\n",
        "!pip install torch==2.4.1 torchvision torchaudio \\\n",
        "\n",
        "# (Optional) Install the CUDA toolkit user binaries if you really need nvcc\n",
        "!apt-get install -y cuda-toolkit-11-6\n",
        "\n",
        "# Install the rest of your project dependencies\n",
        "!pip install -r requirements.txt --verbose\n",
        "\n",
        "#!pip install diff-gaussian-rasterization-w-depth.git\n",
        "!pip install open3d\n",
        "!pip install natsort"
      ]
    },
    {
      "cell_type": "code",
      "execution_count": null,
      "metadata": {
        "colab": {
          "base_uri": "https://localhost:8080/"
        },
        "id": "MzReVRwmaXpK",
        "outputId": "9c9cb615-3fc2-4778-9396-85c0619ff893"
      },
      "outputs": [],
      "source": [
        "!pip install kornia\n",
        "!pip install open3d\n",
        "!pip install pytorch_msssim\n",
        "!pip install torchmetrics\n"
      ]
    },
    {
      "cell_type": "code",
      "execution_count": null,
      "metadata": {
        "colab": {
          "base_uri": "https://localhost:8080/"
        },
        "id": "3ci62nQmkcNb",
        "outputId": "ce009128-43e6-4537-a044-5232bd947a3d"
      },
      "outputs": [],
      "source": [
        "!python -m pip install git+https://github.com/JonathonLuiten/diff-gaussian-rasterization-w-depth.git@cb65e4b86bc3bd8ed42174b72a62e8d3a3a71110\n"
      ]
    },
    {
      "cell_type": "code",
      "execution_count": null,
      "metadata": {
        "id": "7b6I-WYV7chw"
      },
      "outputs": [],
      "source": [
        "# Option 1  - depth in npy\n",
        "#!unzip -q /content/nagoya_npy.zip -d /content/SplaTAM/data/\n",
        "# Option 2 - depth as png\n",
        "!unzip -q /content/nagoya_png.zip -d /content/SplaTAM/data/\n"
      ]
    },
    {
      "cell_type": "markdown",
      "metadata": {
        "id": "lGyAcoBmamxS"
      },
      "source": [
        "The code will be structured as in NerfCapture dataset"
      ]
    },
    {
      "cell_type": "code",
      "execution_count": null,
      "metadata": {
        "colab": {
          "background_save": true,
          "base_uri": "https://localhost:8080/"
        },
        "id": "UP5fEX7eadSp",
        "outputId": "162ecc4c-421a-4796-86d0-e7d5964a59d4"
      },
      "outputs": [],
      "source": [
        "!bash bash_scripts/nerfcapture.bash configs/iphone/nerfcapture.py\n"
      ]
    },
    {
      "cell_type": "code",
      "execution_count": null,
      "metadata": {
        "colab": {
          "base_uri": "https://localhost:8080/"
        },
        "id": "e5ee4zCrcarV",
        "outputId": "51dbf93f-c36d-42d0-c804-184084216dd9"
      },
      "outputs": [],
      "source": [
        "!python scripts/splatam.py configs/iphone/splatam.py"
      ]
    },
    {
      "cell_type": "code",
      "execution_count": null,
      "metadata": {
        "colab": {
          "base_uri": "https://localhost:8080/"
        },
        "id": "7iMW6R8ea2Gz",
        "outputId": "14740a1d-4a5b-44e4-e6e7-5b0e33ba80ef"
      },
      "outputs": [],
      "source": [
        "!pip install plyfile\n",
        "!python viz_scripts/final_recon.py configs/iphone/splatam.py\n",
        "!python viz_scripts/online_recon.py configs/iphone/splatam.py\n",
        "!python scripts/export_ply.py configs/iphone/splatam.py\n",
        "!python scripts/post_splatam_opt.py configs/iphone/post_splatam_opt.py"
      ]
    }
  ],
  "metadata": {
    "accelerator": "GPU",
    "colab": {
      "gpuType": "A100",
      "provenance": []
    },
    "kernelspec": {
      "display_name": "Python 3",
      "name": "python3"
    },
    "language_info": {
      "name": "python"
    }
  },
  "nbformat": 4,
  "nbformat_minor": 0
}
